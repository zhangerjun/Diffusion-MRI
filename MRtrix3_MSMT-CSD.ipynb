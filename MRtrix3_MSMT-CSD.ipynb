{
 "cells": [
  {
   "cell_type": "markdown",
   "metadata": {},
   "source": [
    "# __Multi-Shell Multi-Tissue CSD (MSMT-CSD) modelling analysis notebook__\n",
    "#### __Last updated on:__ 27/02/2020\n",
    "#### __Author:__ Rakshit Dadarwal"
   ]
  },
  {
   "cell_type": "markdown",
   "metadata": {},
   "source": [
    "### __Requirements:__\n",
    "#### 1. A bash kernel for IPython (https://github.com/takluyver/bash_kernel)\n",
    "#### 2. Single-shell DWI dataset (single bvalue)\n",
    "#### 3. MRtrix3 (https://github.com/MRtrix3/mrtrix3)"
   ]
  },
  {
   "cell_type": "markdown",
   "metadata": {},
   "source": [
    "### __This script includes:__\n",
    "#### 1. Preprocessing and multi-tissue CSD modelling"
   ]
  },
  {
   "cell_type": "markdown",
   "metadata": {},
   "source": [
    "### __Define DWI data path__"
   ]
  },
  {
   "cell_type": "code",
   "execution_count": 1,
   "metadata": {},
   "outputs": [],
   "source": [
    "#--------------------------------------------------\n",
    "# Pre-processed DWI data and brain mask \n",
    "#--------------------------------------------------\n",
    "#data_path=/home/rdadarwal/rdadarwal/PRIME_DE_data/dpz/\n",
    "#dwi_file=eddy_corrected.nii.gz\n",
    "#brainmask_file=brain_mask.nii.gz\n",
    "#bval=dMRI.bvals\n",
    "#bvec=eddy_corrected.eddy_rotated_bvecs\n",
    "data_path = \"/home/erjun/githubEZ/dHCP/sub-CC00060XX03/ses-12501/dwi\"\n",
    "dwi_file = 'sub-CC00060XX03_ses-12501_desc-preproc_dwi.nii.gz'\n",
    "brainmask_file = 'sub-CC00060XX03_ses-12501_desc-preproc_space-dwi_brainmask.nii.gz'\n",
    "bval = 'sub-CC00060XX03_ses-12501_desc-preproc_dwi.bval'\n",
    "bvec = 'sub-CC00060XX03_ses-12501_desc-preproc_dwi.bvec'"
   ]
  },
  {
   "cell_type": "code",
   "execution_count": 7,
   "metadata": {},
   "outputs": [
    {
     "ename": "SyntaxError",
     "evalue": "invalid syntax (<ipython-input-7-4355b5bfd7d4>, line 2)",
     "output_type": "error",
     "traceback": [
      "\u001b[0;36m  File \u001b[0;32m\"<ipython-input-7-4355b5bfd7d4>\"\u001b[0;36m, line \u001b[0;32m2\u001b[0m\n\u001b[0;31m    mkdir ~data_path/MS3T-CSD\u001b[0m\n\u001b[0m          ^\u001b[0m\n\u001b[0;31mSyntaxError\u001b[0m\u001b[0;31m:\u001b[0m invalid syntax\n"
     ]
    }
   ],
   "source": [
    "# Create directory\n",
    "mkdir ${data_path}/MS3T-CSD\n",
    "src_path=${data_path}/MS3T-CSD/"
   ]
  },
  {
   "cell_type": "markdown",
   "metadata": {},
   "source": [
    "### __Pre-processing__"
   ]
  },
  {
   "cell_type": "code",
   "execution_count": null,
   "metadata": {},
   "outputs": [],
   "source": [
    "# Convert DWI data from NIfTI into mif (MRtrix Image Format) \n",
    "mrconvert ${data_path}/$dwi_file ${src_path}/dwi.mif -fslgrad ${data_path}/$bvec ${data_path}/$bval\n",
    "\n",
    "# Brain mask\n",
    "mrconvert ${data_path}/$brainmask_file ${src_path}/dwi_mask.mif\n",
    "\n",
    "# Bias field correction\n",
    "dwibiascorrect ants ${src_path}/dwi.mif ${src_path}/dwi_unbiased.mif"
   ]
  },
  {
   "cell_type": "markdown",
   "metadata": {},
   "source": [
    "### __Post-processing__"
   ]
  },
  {
   "cell_type": "code",
   "execution_count": null,
   "metadata": {},
   "outputs": [],
   "source": [
    "# tissue response function estimation\n",
    "dwi2response dhollander ${src_path}/dwi_unbiased.mif ${src_path}/response_wm.txt \\\n",
    "${src_path}/response_gm.txt ${src_path}/response_csf.txt\n",
    "\n",
    "# Fibre Orientation Distribution estimation (multi-tissue CSD modelling)\n",
    "dwi2fod msmt_csd ${src_path}/dwi_unbiased.mif ${src_path}/response_wm.txt ${src_path}/wmfod.mif ${src_path}/response_gm.txt \\\n",
    "${src_path}/gm.mif ${src_path}/response_csf.txt ${src_path}/csf.mif -mask ${src_path}/dwi_mask.mif\n",
    "\n",
    "# multi-tissue joint bias field and intensity normalization\n",
    "mtnormalise ${src_path}/wmfod.mif ${src_path}/wmfod_norm.mif ${src_path}/gm.mif ${src_path}/gm_norm.mif \\\n",
    "${src_path}/csf.mif ${src_path}/csf_norm.mif -mask ${src_path}/dwi_mask.mif"
   ]
  },
  {
   "cell_type": "markdown",
   "metadata": {},
   "source": [
    "### __Visualisation__"
   ]
  },
  {
   "cell_type": "code",
   "execution_count": null,
   "metadata": {},
   "outputs": [],
   "source": [
    "# Compute an FOD-based DEC map from your WM FOD image\n",
    "fod2dec ${src_path}/wmfod_norm.mif ${src_path}/decfod.mif -mask ${src_path}/dwi_mask.mif\n",
    "# Overlay the WM FIDs on the FOD-based DEC map\n",
    "mrview ${src_path}/decfod.mif -odf.load_sh ${src_path}/wmfod_norm.mif"
   ]
  },
  {
   "cell_type": "markdown",
   "metadata": {},
   "source": [
    "### __Tractography__"
   ]
  },
  {
   "cell_type": "code",
   "execution_count": null,
   "metadata": {},
   "outputs": [],
   "source": [
    "# Whole-brain tractography\n",
    "tckgen ${src_path}/wmfod_norm.mif ${src_path}/tracks.tck -seed_image ${src_path}/dwi_mask.mif -select 100000 -cutoff 0.07\n",
    "# Visualize resulting tractogram\n",
    "mrview ${src_path}/decfod.mif -tractography.load ${src_path}/tracks.tck -tractography.lighting true"
   ]
  },
  {
   "cell_type": "code",
   "execution_count": null,
   "metadata": {},
   "outputs": [],
   "source": []
  }
 ],
 "metadata": {
  "kernelspec": {
   "display_name": "Python 3",
   "language": "python",
   "name": "python3"
  },
  "language_info": {
   "codemirror_mode": {
    "name": "ipython",
    "version": 3
   },
   "file_extension": ".py",
   "mimetype": "text/x-python",
   "name": "python",
   "nbconvert_exporter": "python",
   "pygments_lexer": "ipython3",
   "version": "3.7.6"
  }
 },
 "nbformat": 4,
 "nbformat_minor": 2
}

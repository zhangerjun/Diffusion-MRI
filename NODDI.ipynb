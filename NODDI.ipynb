{
 "cells": [
  {
   "cell_type": "markdown",
   "metadata": {},
   "source": [
    "# __Neurite Orientation Dispersion and Density Imaging (NODDI) analysis notebook__\n",
    "#### __Last updated on:__ 27/02/2020\n",
    "#### __Author:__ Rakshit Dadarwal"
   ]
  },
  {
   "cell_type": "markdown",
   "metadata": {},
   "source": [
    "### __Requirements:__\n",
    "#### 1. Multi-shell DWI dataset (minimum two bvalues)\n",
    "#### 2. DIPY (https://dipy.org/)\n",
    "#### 2. AMICO (https://github.com/daducci/AMICO)"
   ]
  },
  {
   "cell_type": "markdown",
   "metadata": {},
   "source": [
    "### __This script includes:__\n",
    "#### 1. NODDI parametric maps estimation"
   ]
  },
  {
   "cell_type": "markdown",
   "metadata": {},
   "source": [
    "### __Import python libraries__"
   ]
  },
  {
   "cell_type": "code",
   "execution_count": 5,
   "metadata": {
    "scrolled": true
   },
   "outputs": [
    {
     "name": "stdout",
     "output_type": "stream",
     "text": [
      "\u001b[0;32m\n",
      "-> Precomputing rotation matrices for l_max=12:\u001b[0m\n",
      "\u001b[0;32m   [ DONE ]\u001b[0m\n"
     ]
    }
   ],
   "source": [
    "import os\n",
    "import nibabel as nib\n",
    "import timeit; timeit.timeit()\n",
    "import amico\n",
    "amico.core.setup()"
   ]
  },
  {
   "cell_type": "markdown",
   "metadata": {},
   "source": [
    "### __Define DWI data path__"
   ]
  },
  {
   "cell_type": "code",
   "execution_count": 6,
   "metadata": {},
   "outputs": [],
   "source": [
    "#--------------------------------------------------\n",
    "# Pre-processed DWI data and brain mask\n",
    "#--------------------------------------------------\n",
    "data_path = \"/home/erjun/Documents/dHCP/dhcp_dmri_pipeline/sub-CC00060XX03/ses-12501/dwi\"\n",
    "dwi_file = 'sub-CC00060XX03_ses-12501_desc-preproc_dwi.nii.gz'\n",
    "brainmask_file = 'sub-CC00060XX03_ses-12501_desc-preproc_space-dwi_brainmask.nii.gz'\n",
    "bval = 'sub-CC00060XX03_ses-12501_desc-preproc_dwi.bval'\n",
    "bvec = 'sub-CC00060XX03_ses-12501_desc-preproc_dwi.bvec'"
   ]
  },
  {
   "cell_type": "markdown",
   "metadata": {},
   "source": [
    "### __Post-processing__"
   ]
  },
  {
   "cell_type": "code",
   "execution_count": 7,
   "metadata": {},
   "outputs": [
    {
     "name": "stdout",
     "output_type": "stream",
     "text": [
      "-> Writing scheme file to [ sub-CC00060XX03_ses-12501_desc-preproc_dwi.scheme ]\n",
      "\u001b[0;32m\n",
      "-> Loading data:\u001b[0m\n",
      "\t* DWI signal\n",
      "\t\t- dim    = 128 x 128 x 64 x 300\n",
      "\t\t- pixdim = 1.172 x 1.172 x 1.500\n",
      "\t* Acquisition scheme\n",
      "\t\t- 300 samples, 3 shells\n",
      "\t\t- 20 @ b=0 , 128 @ b=2600.0 , 88 @ b=1000.0 , 64 @ b=400.0 \n",
      "\t* Binary mask\n",
      "\t\t- dim    = 128 x 128 x 64\n",
      "\t\t- pixdim = 1.172 x 1.172 x 1.500\n",
      "\t\t- voxels = 215497\n",
      "\u001b[0;32m   [ 3.7 seconds ]\u001b[0m\n",
      "\u001b[0;32m\n",
      "-> Preprocessing:\u001b[0m\n",
      "\t* Normalizing to b0... [ min=0.00,  mean=0.06, max=44.80 ]\n",
      "\t* Keeping all b0 volume(s)\n",
      "\u001b[0;32m   [ 1.6 seconds ]\u001b[0m\n",
      "\u001b[0;32m\n",
      "-> Creating LUT for \"NODDI\" model:\u001b[0m\n",
      "\n",
      "\u001b[0;32m   [ 151.9 seconds ]\u001b[0m\n",
      "\u001b[0;32m\n",
      "-> Resampling LUT for subject \"/home/erjun/Documents/dHCP/dhcp_dmri_pipeline/sub-CC00060XX03/ses-12501/dwi\":\u001b[0m\n",
      "\n",
      "\u001b[0;32m   [ 43.9 seconds ]\u001b[0m\n",
      "\u001b[0;32m\n",
      "-> Fitting \"NODDI\" model to 215497 voxels:\u001b[0m\n",
      "\n",
      "\u001b[0;32m   [ 00h 09m 28s ]\u001b[0m\n",
      "\u001b[0;32m\n",
      "-> Saving output to \"/home/erjun/Documents/dHCP/dhcp_dmri_pipeline/sub-CC00060XX03/ses-12501/dwi/NODDI//*\":\u001b[0m\n",
      "\t- configuration  [OK]\n",
      "\t- FIT_dir.nii.gz  [OK]\n",
      "\t- FIT_ICVF.nii.gz  [OK]\n",
      "\t- FIT_OD.nii.gz  [OK]\n",
      "\t- FIT_ISOVF.nii.gz  [OK]\n",
      "\u001b[0;32m   [ DONE ]\u001b[0m\n",
      "Elapsed time: 0.004827323951758444\n",
      "Enjoy!!\n"
     ]
    }
   ],
   "source": [
    "# Change directory\n",
    "os.chdir(data_path)\n",
    "#------------------------------------------------\n",
    "#               Fit NODDI model \n",
    "#------------------------------------------------\n",
    "amico.util.fsl2scheme(bval,bvec)\n",
    "    \n",
    "if not os.path.exists(data_path+'/NODDI/'):\n",
    "    os.mkdir(data_path+'/NODDI')\n",
    "output_path = data_path+'/NODDI/'\n",
    "    \n",
    "ae = amico.Evaluation(data_path, data_path, output_path=output_path)\n",
    "      \n",
    "ae.load_data(dwi_filename = dwi_file, scheme_filename = os.path.splitext(bval)[0]+\".scheme\", mask_filename=brainmask_file, b0_thr = 10)\n",
    "      \n",
    "ae.set_model(\"NODDI\")\n",
    "ae.generate_kernels()\n",
    "     \n",
    "ae.load_kernels()\n",
    "       \n",
    "ae.fit()\n",
    "ae.save_results()\n",
    "        \n",
    "print('Elapsed time:',timeit.timeit())\n",
    "print('Enjoy!!')"
   ]
  },
  {
   "cell_type": "code",
   "execution_count": null,
   "metadata": {},
   "outputs": [],
   "source": []
  }
 ],
 "metadata": {
  "anaconda-cloud": {},
  "kernelspec": {
   "display_name": "Python 3",
   "language": "python",
   "name": "python3"
  },
  "language_info": {
   "codemirror_mode": {
    "name": "ipython",
    "version": 3
   },
   "file_extension": ".py",
   "mimetype": "text/x-python",
   "name": "python",
   "nbconvert_exporter": "python",
   "pygments_lexer": "ipython3",
   "version": "3.7.6"
  }
 },
 "nbformat": 4,
 "nbformat_minor": 2
}
